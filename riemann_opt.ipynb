{
 "cells": [
  {
   "cell_type": "code",
   "execution_count": 1,
   "id": "09c3a3ff-a2bf-4536-9d46-c1a420dde4ed",
   "metadata": {},
   "outputs": [],
   "source": [
    "import numpy as np\n",
    "from scipy import optimize, stats, linalg\n",
    "import seaborn as sns\n",
    "import pymc as pm\n",
    "import matplotlib.pyplot as plt\n",
    "import pandas as pd"
   ]
  },
  {
   "cell_type": "code",
   "execution_count": 3,
   "id": "4e438271-c240-49a1-9c2b-68e19a6cb196",
   "metadata": {},
   "outputs": [],
   "source": [
    "X = np.random.randn(10, 10)\n",
    "x = np.random.randn(10)"
   ]
  },
  {
   "cell_type": "code",
   "execution_count": 2,
   "id": "3ca6ca56-af48-48e0-91c1-6c5802bda48c",
   "metadata": {},
   "outputs": [],
   "source": [
    "def cov_to_corr(cov):\n",
    "    corr = cov.copy()\n",
    "    stds = np.sqrt(np.diag(corr))\n",
    "    corr /= stds[None, :]\n",
    "    corr /= stds[:, None]\n",
    "    return corr\n",
    "\n",
    "def generate_covariance(N, n_vals_non_id, vals_non_id_log_dist, diag_log_dist, lamda_id, eigvec_dist):\n",
    "    x = eigvec_dist.rvs((N, n_vals_non_id))\n",
    "    #x = stats.dirichlet(0.001 * np.ones(N)).rvs(n_vals_non_id).T\n",
    "    x = x * np.sign(np.random.randn(N, n_vals_non_id))\n",
    "    Q, R = linalg.qr(x, mode='economic')\n",
    "    vals = np.exp(vals_non_id_log_dist.rvs(n_vals_non_id))\n",
    "    vals.sort()\n",
    "    #vals = vals[::-1]\n",
    "\n",
    "    cov = Q @ np.diag(vals) @ Q.T + lamda_id * (np.eye(N) - Q @ Q.T)\n",
    "\n",
    "    extra_std = np.sqrt(np.exp(diag_log_dist.rvs(N)))\n",
    "    cov *= extra_std[:, None]\n",
    "    cov *= extra_std[None, :]\n",
    "    \n",
    "    return cov, vals\n",
    "\n",
    "def draw_samples(cov, n_draws):\n",
    "    mean = np.random.randn(len(cov))\n",
    "    #mean = np.zeros(len(cov))\n",
    "    dist = stats.multivariate_normal(mean=mean, cov=cov)\n",
    "    draws = dist.rvs(n_draws)\n",
    "\n",
    "    #def logp(val, mean, cov):\n",
    "    #    return jax.scipy.stats.multivariate_normal.logpdf(val, mean=mean, cov=cov)\n",
    "    def logp(val):\n",
    "        return dist.logpdf(val)\n",
    "\n",
    "    #def dlogp(val, mean, cov):\n",
    "    #    return jax.grad(logp)(val, mean, cov)\n",
    "    def dlogp(values, mean, cov):\n",
    "        return -linalg.solve(cov, (values - mean).T, sym_pos=True).T\n",
    "\n",
    "    #logp_vec = jax.vmap(logp, in_axes=[0, None, None])\n",
    "    #dlogp_vec = jax.vmap(dlogp, in_axes=[0, None, None])\n",
    "\n",
    "    grads = dlogp(draws, mean, cov)\n",
    "    return draws, grads, mean"
   ]
  },
  {
   "cell_type": "code",
   "execution_count": 3,
   "id": "810a52b5-ac2f-4830-8a2a-550b758960fb",
   "metadata": {},
   "outputs": [
    {
     "name": "stderr",
     "output_type": "stream",
     "text": [
      "/tmp/ipykernel_1301498/2344618507.py:39: DeprecationWarning: The 'sym_pos' keyword is deprecated and should be replaced by using 'assume_a = \"pos\"'. 'sym_pos' will be removed in SciPy 1.11.0.\n",
      "  return -linalg.solve(cov, (values - mean).T, sym_pos=True).T\n"
     ]
    }
   ],
   "source": [
    "from scipy.sparse import linalg as slinalg\n",
    "\n",
    "cov, _ = generate_covariance(1000, 20, stats.norm(0, 2), stats.norm(0, 2), 1, stats.norm(0, 1))\n",
    "\n",
    "draws, grads, mean = draw_samples(cov, 80)\n",
    "\n",
    "draws = draws - draws.mean(axis=0, keepdims=True)\n",
    "grads = grads - grads.mean(axis=0, keepdims=True)\n",
    "\n",
    "n_draws, N = draws.shape\n",
    "\n",
    "stds = np.sqrt(draws.std(0) / grads.std(0))\n",
    "\n",
    "draws_ = draws / stds\n",
    "grads_ = grads * stds"
   ]
  },
  {
   "cell_type": "code",
   "execution_count": 4,
   "id": "b9a2ddc7-1a8f-4e96-ac57-b1d3a3303fe0",
   "metadata": {},
   "outputs": [
    {
     "data": {
      "text/plain": [
       "59.95140402785537"
      ]
     },
     "execution_count": 4,
     "metadata": {},
     "output_type": "execute_result"
    }
   ],
   "source": [
    "((np.log(linalg.eigvalsh(np.diag(np.std(draws, 0) / np.std(grads, 0)), cov))) ** 2).sum()"
   ]
  },
  {
   "cell_type": "code",
   "execution_count": 5,
   "id": "57329d4a-235e-4bff-b6c6-637870727d19",
   "metadata": {},
   "outputs": [],
   "source": [
    "alpha = 1000\n",
    "\n",
    "def logdet(X):\n",
    "    eigs = linalg.eigvalsh(X)\n",
    "    return np.log(eigs).sum()\n",
    "\n",
    "def cost(X):\n",
    "    stds = np.sqrt(np.diag(X))\n",
    "    corr = X / stds[None, :] / stds[:, None]\n",
    "    #return np.trace(grads @ X @ grads.T) + np.trace(draws @ linalg.inv(X) @ draws.T) - alpha * logdet(corr)\n",
    "    return np.trace(grads_ @ X @ grads_.T) + np.trace(draws_ @ linalg.inv(X) @ draws_.T) - alpha * logdet(corr)\n",
    "\n",
    "    #return np.trace(grads_ @ X @ grads_.T) + np.trace(draws_ @ linalg.inv(X) @ draws_.T) - alpha * (np.trace(X) + np.trace(linalg.inv(X)))\n",
    "\n",
    "def r_grad(X):\n",
    "    diag = np.diag(X)\n",
    "    #return X @ grads.T @ grads @ X - draws.T @ draws + alpha * (X @ np.diag(1/diag) @ X - X)\n",
    "    return X @ grads_.T @ grads_ @ X - draws_.T @ draws_ + alpha * (X @ np.diag(1/diag) @ X - X)\n",
    "    #return X @ grads_.T @ grads_ @ X - draws_.T @ draws_ - alpha * (np.eye(N) - X @ X)"
   ]
  },
  {
   "cell_type": "code",
   "execution_count": 71,
   "id": "8f6efa7c-55db-45a4-a0e9-c7dae65d81c9",
   "metadata": {},
   "outputs": [
    {
     "data": {
      "text/plain": [
       "(80, 1000)"
      ]
     },
     "execution_count": 71,
     "metadata": {},
     "output_type": "execute_result"
    }
   ],
   "source": [
    "grads_.shape"
   ]
  },
  {
   "cell_type": "code",
   "execution_count": 88,
   "id": "f41edf82-68ed-4c71-ac4c-f9d3cd03c281",
   "metadata": {},
   "outputs": [
    {
     "name": "stdout",
     "output_type": "stream",
     "text": [
      "27 µs ± 539 ns per loop (mean ± std. dev. of 7 runs, 10,000 loops each)\n"
     ]
    }
   ],
   "source": [
    "%timeit grads_ @ U"
   ]
  },
  {
   "cell_type": "code",
   "execution_count": 80,
   "id": "af3dc6af-4194-4d26-8f60-d17d376c9df0",
   "metadata": {},
   "outputs": [],
   "source": [
    "U_tr = np.asfortranarray(U.T)\n",
    "grads_tr = np.asfortranarray(grads_.T)"
   ]
  },
  {
   "cell_type": "code",
   "execution_count": 81,
   "id": "375926d3-af1a-45bd-83dc-aae79189a4ff",
   "metadata": {},
   "outputs": [
    {
     "name": "stdout",
     "output_type": "stream",
     "text": [
      "36.8 µs ± 1.37 µs per loop (mean ± std. dev. of 7 runs, 10,000 loops each)\n"
     ]
    }
   ],
   "source": [
    "%timeit U_tr @ grads_tr"
   ]
  },
  {
   "cell_type": "code",
   "execution_count": 91,
   "id": "b83668ef-b00c-4c71-b9ab-d6706f6ac755",
   "metadata": {},
   "outputs": [],
   "source": [
    "grads__ = np.ascontiguousarray(grads_)\n",
    "U__ = np.asfortranarray(U)"
   ]
  },
  {
   "cell_type": "code",
   "execution_count": 92,
   "id": "2367ed29-9c45-4404-9e8b-5de0c9756f6f",
   "metadata": {},
   "outputs": [
    {
     "name": "stdout",
     "output_type": "stream",
     "text": [
      "26.8 µs ± 559 ns per loop (mean ± std. dev. of 7 runs, 10,000 loops each)\n"
     ]
    }
   ],
   "source": [
    "%timeit grads__ @ U__"
   ]
  },
  {
   "cell_type": "code",
   "execution_count": 95,
   "id": "eb518452-7ad4-41ed-8e13-7d2db923945b",
   "metadata": {},
   "outputs": [],
   "source": [
    "v = np.ones(N)"
   ]
  },
  {
   "cell_type": "code",
   "execution_count": 97,
   "id": "6fa9b95c-e8db-4725-9240-4a9bf5878f95",
   "metadata": {},
   "outputs": [
    {
     "name": "stdout",
     "output_type": "stream",
     "text": [
      "10.4 µs ± 904 ns per loop (mean ± std. dev. of 7 runs, 100,000 loops each)\n"
     ]
    }
   ],
   "source": [
    "%timeit draws_ @ v"
   ]
  },
  {
   "cell_type": "code",
   "execution_count": 99,
   "id": "500cdcdc-8cfd-4836-acd7-099792923b3d",
   "metadata": {},
   "outputs": [],
   "source": [
    "draws__ = np.asfortranarray(draws_)"
   ]
  },
  {
   "cell_type": "code",
   "execution_count": 100,
   "id": "ace269fc-f452-4992-a001-ad4b87187337",
   "metadata": {},
   "outputs": [
    {
     "name": "stdout",
     "output_type": "stream",
     "text": [
      "13.2 µs ± 183 ns per loop (mean ± std. dev. of 7 runs, 100,000 loops each)\n"
     ]
    }
   ],
   "source": [
    "%timeit draws__ @ v"
   ]
  },
  {
   "cell_type": "code",
   "execution_count": 102,
   "id": "edfdf85c-76ec-4469-a8d2-5e33dbdd269d",
   "metadata": {},
   "outputs": [
    {
     "name": "stdout",
     "output_type": "stream",
     "text": [
      "286 ns ± 4.33 ns per loop (mean ± std. dev. of 7 runs, 1,000,000 loops each)\n"
     ]
    }
   ],
   "source": [
    "%timeit np.array(1)"
   ]
  },
  {
   "cell_type": "code",
   "execution_count": 103,
   "id": "acd2d3d6-ca06-4d6f-b82d-9a162646e5cd",
   "metadata": {},
   "outputs": [],
   "source": [
    "import numba"
   ]
  },
  {
   "cell_type": "code",
   "execution_count": 107,
   "id": "fb5d381d-153a-48eb-aa4f-f80a7a8d6db9",
   "metadata": {},
   "outputs": [
    {
     "name": "stdout",
     "output_type": "stream",
     "text": [
      "19.6 ms ± 526 µs per loop (mean ± std. dev. of 7 runs, 10 loops each)\n"
     ]
    }
   ],
   "source": [
    "@numba.njit\n",
    "def alloc_stuff():\n",
    "    for _ in range(1_000_000):\n",
    "        x = np.array(1)\n",
    "\n",
    "alloc_stuff()\n",
    "\n",
    "%timeit alloc_stuff()"
   ]
  },
  {
   "cell_type": "code",
   "execution_count": 108,
   "id": "b74ea350-1446-43fb-b6ba-892a9f38f6ae",
   "metadata": {},
   "outputs": [],
   "source": [
    "def cost_fact(U, s):\n",
    "    l_m1 = np.expm1(s)\n",
    "    l_inv_m1 = np.expm1(-s)\n",
    "    GU = grads_ @ U\n",
    "    CU = draws_ @ U\n",
    "\n",
    "    # To match the naive impl. Not necessary though, because extra terms are constant\n",
    "    # out = (GU * GU * l_m1).sum() + (grads_ ** 2).sum() + (CU * CU * l_inv_m1).sum() + (draws_ ** 2).sum()\n",
    "    out = (GU * GU * l_m1).sum() + (CU * CU * l_inv_m1).sum()\n",
    "\n",
    "    X_diag = (U * U * l_m1).sum(1) + 1\n",
    "    reg = -alpha * (s.sum() - np.log(X_diag).sum())\n",
    "    return out + reg\n",
    "\n",
    "\n",
    "def r_grad_action(U, s, v):\n",
    "    l_m1 = np.expm1(s)\n",
    "    X_diag = (U * U * l_m1).sum(1) + 1\n",
    "\n",
    "    def X_mult(u):\n",
    "        return u + U @ (l_m1 * (U.T @ u))\n",
    "\n",
    "    Xv = X_mult(v)\n",
    "\n",
    "    return (\n",
    "        X_mult(grads_.T @ (grads_ @ Xv))\n",
    "        - draws_.T @ (draws_ @ v)\n",
    "        - alpha * Xv\n",
    "        + alpha * X_mult(Xv / X_diag)\n",
    "    )"
   ]
  },
  {
   "cell_type": "code",
   "execution_count": 109,
   "id": "5b8ad360-c012-401e-93a8-cce4bef7ebcf",
   "metadata": {},
   "outputs": [],
   "source": [
    "U = U[:, :4]"
   ]
  },
  {
   "cell_type": "code",
   "execution_count": 110,
   "id": "612bf9dd-6d5f-4b98-8d22-c6d529cfabc0",
   "metadata": {},
   "outputs": [],
   "source": [
    "l_m1 = np.expm1(s)[:4]\n",
    "\n",
    "def X_mult(u):\n",
    "    return u + U @ (l_m1 * (U.T @ u))"
   ]
  },
  {
   "cell_type": "code",
   "execution_count": 111,
   "id": "0a0d1fe9-b26a-441c-9303-f1f743e26c46",
   "metadata": {},
   "outputs": [],
   "source": [
    "u = np.zeros(N)"
   ]
  },
  {
   "cell_type": "code",
   "execution_count": 112,
   "id": "6cc2e459-1365-4a1f-adf7-1826cba93184",
   "metadata": {},
   "outputs": [
    {
     "name": "stdout",
     "output_type": "stream",
     "text": [
      "5.79 µs ± 61.6 ns per loop (mean ± std. dev. of 7 runs, 100,000 loops each)\n"
     ]
    }
   ],
   "source": [
    "%timeit X_mult(u)"
   ]
  },
  {
   "cell_type": "code",
   "execution_count": 120,
   "id": "638f9a90-0ce2-4592-9fa3-1eaf1701b656",
   "metadata": {},
   "outputs": [],
   "source": [
    "call_count = 0\n",
    "\n",
    "def retraction_action(U, s, v, step_size):\n",
    "    global call_count\n",
    "    call_count += 1\n",
    "    l_m1 = np.expm1(s)\n",
    "\n",
    "    def X_mult(u):\n",
    "        return u + U @ (l_m1 * (U.T @ u))\n",
    "\n",
    "    return X_mult(v) - step_size * r_grad_action(U, s, v)"
   ]
  },
  {
   "cell_type": "code",
   "execution_count": 8,
   "id": "c3c2f6d3-1f54-4ba1-b2e7-977c4bfc0c89",
   "metadata": {},
   "outputs": [],
   "source": [
    "import pymanopt\n",
    "import jax.numpy as jnp\n",
    "import jax.scipy.linalg as jlinalg"
   ]
  },
  {
   "cell_type": "code",
   "execution_count": 9,
   "id": "202fa508-82c0-4bd5-a4e6-a6d697a4445d",
   "metadata": {},
   "outputs": [],
   "source": [
    "man = pymanopt.manifolds.SymmetricPositiveDefinite(N)\n",
    "@pymanopt.function.jax(man)\n",
    "def cost_manopt(X):\n",
    "    stds = jnp.sqrt(jnp.diag(X))\n",
    "    corr = X / stds[None, :] / stds[:, None]\n",
    "    chol_corr = jlinalg.cholesky(corr)\n",
    "    return jnp.trace(grads_ @ X @ grads_.T) + jnp.trace(draws_ @ jlinalg.solve(X, draws_.T, assume_a=\"pos\")) - 2 * alpha * jnp.log(jnp.diag(chol_corr)).sum()"
   ]
  },
  {
   "cell_type": "code",
   "execution_count": null,
   "id": "5c870316-4c23-464b-921d-6fa88c32bd1f",
   "metadata": {},
   "outputs": [],
   "source": [
    "problem = pymanopt.Problem(man, cost_manopt)\n",
    "\n",
    "optimizer = pymanopt.optimizers.TrustRegions()\n",
    "result = optimizer.run(problem, initial_point=np.eye(N))"
   ]
  },
  {
   "cell_type": "code",
   "execution_count": 114,
   "id": "b648b001-1063-4ecf-b103-29c56b0dcc85",
   "metadata": {},
   "outputs": [
    {
     "ename": "NameError",
     "evalue": "name 'result' is not defined",
     "output_type": "error",
     "traceback": [
      "\u001b[0;31m---------------------------------------------------------------------------\u001b[0m",
      "\u001b[0;31mNameError\u001b[0m                                 Traceback (most recent call last)",
      "Cell \u001b[0;32mIn[114], line 1\u001b[0m\n\u001b[0;32m----> 1\u001b[0m X_trust \u001b[38;5;241m=\u001b[39m \u001b[43mresult\u001b[49m\u001b[38;5;241m.\u001b[39mpoint\u001b[38;5;66;03m# * stds[None, :] * stds[:, None]\u001b[39;00m\n\u001b[1;32m      2\u001b[0m cov_trust \u001b[38;5;241m=\u001b[39m X_trust \u001b[38;5;241m*\u001b[39m stds[\u001b[38;5;28;01mNone\u001b[39;00m, :] \u001b[38;5;241m*\u001b[39m stds[:, \u001b[38;5;28;01mNone\u001b[39;00m]\n\u001b[1;32m      4\u001b[0m ((np\u001b[38;5;241m.\u001b[39mlog(linalg\u001b[38;5;241m.\u001b[39meigvalsh(cov_trust, cov))) \u001b[38;5;241m*\u001b[39m\u001b[38;5;241m*\u001b[39m \u001b[38;5;241m2\u001b[39m)\u001b[38;5;241m.\u001b[39msum()\n",
      "\u001b[0;31mNameError\u001b[0m: name 'result' is not defined"
     ]
    }
   ],
   "source": [
    "X_trust = result.point# * stds[None, :] * stds[:, None]\n",
    "cov_trust = X_trust * stds[None, :] * stds[:, None]\n",
    "\n",
    "((np.log(linalg.eigvalsh(cov_trust, cov))) ** 2).sum()"
   ]
  },
  {
   "cell_type": "code",
   "execution_count": 11,
   "id": "5e4d33c8-bef8-482c-97eb-bcacf5a9b31a",
   "metadata": {},
   "outputs": [],
   "source": [
    "stepsize = 1e-4\n",
    "\n",
    "X_trace = []\n",
    "grad_trace = []\n",
    "norm_trace = []\n",
    "\n",
    "#X = np.diag(np.std(draws, 0) / np.std(grads, 0))\n",
    "X = np.eye(N)\n",
    "\n",
    "for iter in range(10):\n",
    "    X_trace.append(X)\n",
    "    grad = r_grad(X)\n",
    "    grad_trace.append(grad)\n",
    "\n",
    "    #vals, vecs = slinalg.eigsh(slinalg.aslinearoperator(grad), k=20)\n",
    "    #grad = vecs @ np.diag(vals) @ vecs.T\n",
    "    norm = np.trace(linalg.inv(X) @ grad @ linalg.inv(X) @ grad)\n",
    "\n",
    "    #if iter > 200:\n",
    "    #    stepsize = 1e-3\n",
    "\n",
    "    #if norm > 2:\n",
    "    #    grad *= 2 / norm\n",
    "\n",
    "    g = -stepsize * grad\n",
    "    X = X + g# + g @ linalg.inv(X) @ g / 2\n",
    "\n",
    "    #stds_ = np.sqrt(np.diag(X))\n",
    "    #vals, vecs = slinalg.eigsh(slinalg.aslinearoperator(X / stds_[None, :] / stds_[:, None]), k=20, which=\"BE\")\n",
    "    vals, vecs = slinalg.eigsh(slinalg.aslinearoperator(X), k=4, which=\"BE\")\n",
    "    X = (vecs @ np.diag(vals - 1) @ vecs.T + np.eye(N))# * stds_[None, :] * stds_[:, None]\n",
    "    #norm = np.trace(linalg.inv(X) @ grad @ linalg.inv(X) @ grad)\n",
    "    \n",
    "    #retract_operator = slinalg.LinearOperator((N, N), matvec=lambda v: retraction_action(vecs, np.log(vals), v, 1e-4))\n",
    "    #slinalg.eigsh(retract_operator, k=10, which=\"BE\")\n",
    "    \n",
    "    norm_trace.append(norm)\n",
    "    if norm < 1e-3:\n",
    "        break"
   ]
  },
  {
   "cell_type": "code",
   "execution_count": 121,
   "id": "8b36f882-ff4c-4bef-9010-61c4f1913f38",
   "metadata": {},
   "outputs": [
    {
     "name": "stdout",
     "output_type": "stream",
     "text": [
      "CPU times: user 7.74 s, sys: 134 ms, total: 7.87 s\n",
      "Wall time: 7.89 s\n"
     ]
    }
   ],
   "source": [
    "%%time\n",
    "\n",
    "stepsize = 1e-4\n",
    "k = 15\n",
    "\n",
    "cost_trace = []\n",
    "U_trace = []\n",
    "s_trace = []\n",
    "\n",
    "U = np.eye(N)[:, :k]\n",
    "s = np.zeros(k)\n",
    "\n",
    "for iter in range(1000):\n",
    "    U_trace.append(U)\n",
    "    s_trace.append(s)\n",
    "    cost_trace.append(cost_fact(U, s))\n",
    "\n",
    "    retract_operator = slinalg.LinearOperator((N, N), matvec=lambda v: retraction_action(U, s, v, stepsize))\n",
    "    s, U = slinalg.eigsh(retract_operator, k=k, which=\"BE\", v0=U.mean(1))\n",
    "    #s, U = slinalg.eigsh(retract_operator, k=k, which=\"BE\")\n",
    "    s = np.log(s)\n",
    "\n",
    "X = (U @ np.diag(np.expm1(s)) @ U.T + np.eye(N))"
   ]
  },
  {
   "cell_type": "code",
   "execution_count": 125,
   "id": "5bb05307-cd3c-4491-b679-7e5087552de1",
   "metadata": {},
   "outputs": [
    {
     "data": {
      "text/plain": [
       "32076"
      ]
     },
     "execution_count": 125,
     "metadata": {},
     "output_type": "execute_result"
    }
   ],
   "source": [
    "call_count"
   ]
  },
  {
   "cell_type": "code",
   "execution_count": 126,
   "id": "727ca651-8381-48ca-b053-4e38ecf16e81",
   "metadata": {},
   "outputs": [],
   "source": [
    "l_m1 = np.expm1(s)\n",
    "l_inv_m1 = np.expm1(-s)\n",
    "\n",
    "def X_mult(u):\n",
    "    return u + U @ (l_m1 * (U.T @ u))\n",
    "\n",
    "def X_inv_mult(u):\n",
    "    return u + U @ (l_inv_m1 * (U.T @ u))\n",
    "\n",
    "def OPinv(x):\n",
    "    return slinalg.cg(retract_operator, x, M=slinalg.LinearOperator((N, N), matvec=lambda x: X_inv_mult(x)))[0]"
   ]
  },
  {
   "cell_type": "code",
   "execution_count": 133,
   "id": "68aa0007-2afc-4ee5-bce6-2308db542167",
   "metadata": {},
   "outputs": [],
   "source": [
    "#%%timeit\n",
    "_ = slinalg.eigsh(retract_operator, k=k, which=\"LM\", sigma=0, OPinv=slinalg.LinearOperator((N, N), matvec=OPinv))"
   ]
  },
  {
   "cell_type": "code",
   "execution_count": 156,
   "id": "a9ba1ced-457f-418a-b705-d8136077d6ab",
   "metadata": {},
   "outputs": [],
   "source": [
    "call_count = 0"
   ]
  },
  {
   "cell_type": "code",
   "execution_count": 157,
   "id": "81976472-6221-44c0-9a7d-097a25145db7",
   "metadata": {},
   "outputs": [],
   "source": [
    "_ = slinalg.eigsh(retract_operator, k=k, which=\"BE\", v0=U.mean(1))"
   ]
  },
  {
   "cell_type": "code",
   "execution_count": 158,
   "id": "85bb46f0-7de3-47d9-a163-fafc5eb1ab26",
   "metadata": {},
   "outputs": [
    {
     "data": {
      "text/plain": [
       "31"
      ]
     },
     "execution_count": 158,
     "metadata": {},
     "output_type": "execute_result"
    }
   ],
   "source": [
    "call_count"
   ]
  },
  {
   "cell_type": "code",
   "execution_count": 18,
   "id": "34e8d14a-de49-42c4-a27c-c2b4dc0640ba",
   "metadata": {},
   "outputs": [
    {
     "name": "stdout",
     "output_type": "stream",
     "text": [
      "211 ms ± 5.38 ms per loop (mean ± std. dev. of 7 runs, 1 loop each)\n"
     ]
    }
   ],
   "source": [
    "%%timeit\n",
    "_ = slinalg.eigsh(retract_operator, k=k, which=\"LM\", sigma=0, OPinv=slinalg.LinearOperator((N, N), matvec=OPinv), v0=U.mean(1))"
   ]
  },
  {
   "cell_type": "code",
   "execution_count": 20,
   "id": "ff4123b5-a3b1-45a0-9ea9-790c77754709",
   "metadata": {},
   "outputs": [
    {
     "name": "stdout",
     "output_type": "stream",
     "text": [
      "6.07 ms ± 108 µs per loop (mean ± std. dev. of 7 runs, 100 loops each)\n",
      "7.62 ms ± 144 µs per loop (mean ± std. dev. of 7 runs, 100 loops each)\n"
     ]
    }
   ],
   "source": [
    "%timeit slinalg.eigsh(retract_operator, k=k, which=\"BE\", v0=U.mean(1))\n",
    "%timeit slinalg.eigsh(retract_operator, k=k, which=\"BE\")"
   ]
  },
  {
   "cell_type": "code",
   "execution_count": 11,
   "id": "d334f8d9-a05e-4067-ba8e-d093dae67640",
   "metadata": {},
   "outputs": [],
   "source": [
    "from petsc4py import PETSc\n",
    "from slepc4py import SLEPc"
   ]
  },
  {
   "cell_type": "code",
   "execution_count": 12,
   "id": "8bd9d535-c3c9-43d2-9dcd-27eaee12306a",
   "metadata": {},
   "outputs": [],
   "source": [
    "n = 30"
   ]
  },
  {
   "cell_type": "code",
   "execution_count": 25,
   "id": "d234faf2-45bf-457c-ae9d-4e6a3ea604c0",
   "metadata": {},
   "outputs": [
    {
     "data": {
      "text/plain": [
       "<petsc4py.PETSc.Mat at 0x7faee12093a0>"
      ]
     },
     "execution_count": 25,
     "metadata": {},
     "output_type": "execute_result"
    }
   ],
   "source": [
    "class MatrixFreeB(object):\n",
    "\n",
    "    def __init__(self, matvec):\n",
    "        self.matvec = matvec\n",
    "\n",
    "    def mult(self, mat, x, y):\n",
    "        self.matvec\n",
    "        y.array[:] = self.matvec(x.array)\n",
    "        # y <- A x\n",
    "        #self.A.mult(x, y)\n",
    "\n",
    "        # alpha <- v^T x\n",
    "        #alpha = self.v.dot(x)\n",
    "\n",
    "        # y <- y + alpha*u\n",
    "        #y.axpy(alpha, self.u)\n",
    "\n",
    "\n",
    "B = PETSc.Mat().create()\n",
    "\n",
    "\n",
    "# Build the matrix \"context\"\n",
    "Bctx = MatrixFreeB(matvec=lambda v: retraction_action(U, s, v, stepsize))\n",
    "\n",
    "# Set up B\n",
    "# B is the same size as A\n",
    "B.setSizes([N, N])\n",
    "\n",
    "B.setType(B.Type.PYTHON)\n",
    "B.setPythonContext(Bctx)\n",
    "B.setUp()"
   ]
  },
  {
   "cell_type": "code",
   "execution_count": 56,
   "id": "877a97fd-860e-4e83-9f46-6ee7a2123eb2",
   "metadata": {},
   "outputs": [
    {
     "data": {
      "text/plain": [
       "\u001b[0;31mInit signature:\u001b[0m \u001b[0mSLEPc\u001b[0m\u001b[0;34m.\u001b[0m\u001b[0mMFN\u001b[0m\u001b[0;34m(\u001b[0m\u001b[0mself\u001b[0m\u001b[0;34m,\u001b[0m \u001b[0;34m/\u001b[0m\u001b[0;34m,\u001b[0m \u001b[0;34m*\u001b[0m\u001b[0margs\u001b[0m\u001b[0;34m,\u001b[0m \u001b[0;34m**\u001b[0m\u001b[0mkwargs\u001b[0m\u001b[0;34m)\u001b[0m\u001b[0;34m\u001b[0m\u001b[0;34m\u001b[0m\u001b[0m\n",
       "\u001b[0;31mDocstring:\u001b[0m      MFN\n",
       "\u001b[0;31mFile:\u001b[0m           ~/mambaforge/envs/pymc-dev/lib/python3.10/site-packages/slepc4py/lib/SLEPc.cpython-310-x86_64-linux-gnu.so\n",
       "\u001b[0;31mType:\u001b[0m           type\n",
       "\u001b[0;31mSubclasses:\u001b[0m     \n"
      ]
     },
     "metadata": {},
     "output_type": "display_data"
    }
   ],
   "source": [
    "SLEPc.MFN??"
   ]
  },
  {
   "cell_type": "code",
   "execution_count": 51,
   "id": "52f554f9-88ca-4ab7-b760-aedcbab01b33",
   "metadata": {},
   "outputs": [
    {
     "name": "stdout",
     "output_type": "stream",
     "text": [
      "CPU times: user 11 ms, sys: 0 ns, total: 11 ms\n",
      "Wall time: 10.3 ms\n"
     ]
    }
   ],
   "source": [
    "#%%timeit\n",
    "E = SLEPc.EPS(); E.create()\n",
    "\n",
    "E.setOperators(B)\n",
    "E.setProblemType(SLEPc.EPS.ProblemType.HEP)\n",
    "#E.setFromOptions()\n",
    "E.setDimensions(15 // 2)\n",
    "E.setWhichEigenpairs(SLEPc.EPS.Which.LARGEST_MAGNITUDE)\n",
    "#E.setType(SLEPc.EPS.Type.LANCZOS)\n",
    "\n",
    "%time E.solve()"
   ]
  },
  {
   "cell_type": "code",
   "execution_count": 52,
   "id": "e2828ca1-31b9-4b48-a4f6-90f2a0b7faaa",
   "metadata": {},
   "outputs": [
    {
     "name": "stdout",
     "output_type": "stream",
     "text": [
      "     2.635141       3.52461e-16\n",
      "     2.172873       6.93207e-16\n",
      "     1.536547       2.92576e-13\n",
      "     1.315439       1.17337e-09\n",
      "     1.234448       1.24338e-15\n",
      "     1.195038       4.28531e-15\n",
      "     1.157507        1.6329e-13\n",
      "     1.132428       2.66745e-13\n"
     ]
    }
   ],
   "source": [
    "its = E.getIterationNumber()\n",
    "#Print(\"Number of iterations of the method: %d\" % its)\n",
    "\n",
    "eps_type = E.getType()\n",
    "#Print(\"Solution method: %s\" % eps_type)\n",
    "\n",
    "nev, ncv, mpd = E.getDimensions()\n",
    "#Print(\"Number of requested eigenvalues: %d\" % nev)\n",
    "\n",
    "tol, maxit = E.getTolerances()\n",
    "#Print(\"Stopping condition: tol=%.4g, maxit=%d\" % (tol, maxit))\n",
    "\n",
    "\n",
    "nconv = E.getConverged()\n",
    "#Print(\"Number of converged eigenpairs %d\" % nconv)\n",
    "\n",
    "\n",
    "if nconv > 0:\n",
    "    # Create the results vectors\n",
    "    vr, wr = B.getVecs()\n",
    "    vi, wi = B.getVecs()\n",
    "    #\n",
    "    for i in range(nconv):\n",
    "        k = E.getEigenpair(i, vr, vi)\n",
    "        error = E.computeError(i)\n",
    "        if k.imag != 0.0:\n",
    "            print(\" %9f%+9f j %12g\" % (k.real, k.imag, error))\n",
    "        else:\n",
    "            print(\" %12f      %12g\" % (k.real, error))"
   ]
  },
  {
   "cell_type": "code",
   "execution_count": 55,
   "id": "578a9ffb-c0fc-41ce-b827-42f7994efbc5",
   "metadata": {},
   "outputs": [
    {
     "data": {
      "text/plain": [
       "1.1324283825817105"
      ]
     },
     "execution_count": 55,
     "metadata": {},
     "output_type": "execute_result"
    }
   ],
   "source": []
  },
  {
   "cell_type": "code",
   "execution_count": 47,
   "id": "d6a178ce-5cf1-4a21-b1c6-bcd7efbc0707",
   "metadata": {},
   "outputs": [
    {
     "data": {
      "text/plain": [
       "array([0.51267073, 0.58954816, 0.65282969, 0.71208998, 0.73835182,\n",
       "       0.78755364, 0.79940022, 1.13242838, 1.1575072 , 1.19503755,\n",
       "       1.23444835, 1.31543928, 1.53654668, 2.17287252, 2.6351411 ])"
      ]
     },
     "execution_count": 47,
     "metadata": {},
     "output_type": "execute_result"
    }
   ],
   "source": [
    "np.exp(s)"
   ]
  },
  {
   "cell_type": "code",
   "execution_count": null,
   "id": "c572c1ab-a6a7-4d67-91df-a7a1dd97b252",
   "metadata": {},
   "outputs": [],
   "source": []
  }
 ],
 "metadata": {
  "kernelspec": {
   "display_name": "pymc",
   "language": "python",
   "name": "pymc"
  },
  "language_info": {
   "codemirror_mode": {
    "name": "ipython",
    "version": 3
   },
   "file_extension": ".py",
   "mimetype": "text/x-python",
   "name": "python",
   "nbconvert_exporter": "python",
   "pygments_lexer": "ipython3",
   "version": "3.9.15"
  }
 },
 "nbformat": 4,
 "nbformat_minor": 5
}
